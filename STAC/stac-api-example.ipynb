{
 "cells": [
  {
   "cell_type": "markdown",
   "id": "f6c20f6b-c912-4b19-bb20-fd0a3bf9027f",
   "metadata": {},
   "source": [
    "# CCI STAC - Demonstration\n",
    "\n",
    "The ``pystac_client`` package can be used to search and access the data with in the CCI STAC. This notebook is a showcase of some of the methods which can be used.\n",
    "\n",
    "Note that the pystac_client itself has some [good documentation](https://pystac-client.readthedocs.io/en/latest/usage.html) if any of this isn't clear or something isn't covered. \n",
    "\n",
    "\n",
    "## 1. Pystac-client\n",
    "First we import `pystac_client` library."
   ]
  },
  {
   "cell_type": "code",
   "execution_count": 1,
   "id": "4ea55be8-c472-46fd-a4fc-5631b97652e1",
   "metadata": {},
   "outputs": [],
   "source": [
    "import pystac_client\n",
    "from pystac_client.stac_api_io import StacApiIO\n",
    "\n",
    "import itertools"
   ]
  },
  {
   "cell_type": "markdown",
   "id": "d7ff1854-52d7-4303-92c5-1d1ecc367e46",
   "metadata": {},
   "source": [
    "Now we can create our client using the url of the STAC catalog that we want to work with."
   ]
  },
  {
   "cell_type": "code",
   "execution_count": 3,
   "id": "974f52db-c158-4f7a-bd55-8455fc86802a",
   "metadata": {},
   "outputs": [],
   "source": [
    "client = pystac_client.Client.open(\"https://api.stac.164.30.69.113.nip.io/\")"
   ]
  },
  {
   "cell_type": "markdown",
   "id": "cb9826c5-ff92-4847-82e1-c8cc705ad948",
   "metadata": {},
   "source": [
    "The client has many different function to examine the collections available we can use the `get_collections()` method, because there are a lot of collections available we only display the first 10:"
   ]
  },
  {
   "cell_type": "code",
   "execution_count": 4,
   "id": "b9097594-2691-44aa-9275-5ca6a5e6a495",
   "metadata": {
    "tags": []
   },
   "outputs": [
    {
     "name": "stdout",
     "output_type": "stream",
     "text": [
      "004fd44ff5124174ad3c03dd2c67d548: ESA Cloud Climate Change Initiative (Cloud_cci): AVHRR-PM monthly gridded cloud properties, version 3.0\n",
      "004fd44ff5124174ad3c03dd2c67d548-main: (NonDRS) AVHRR-PM monthly gridded cloud properties, version 3.0\n",
      "00a0da5d759d4d69ae866a23b84011be: ESA Ozone Climate Change Initiative (Ozone CCI): Merged Level 3 Limb Ozone Monthly Zonal Mean (MZM) Profiles, Version 2\n",
      "00a0da5d759d4d69ae866a23b84011be-main: (NonDRS) ESA Ozone Climate Change Initiative (Ozone CCI): Merged Level 3 Limb Ozone Monthly Zonal Mean (MZM) Profiles, Version 2\n",
      "00fe090efc58446e8980992a617f632f: ESA Antarctic Ice Sheet Climate Change Initiative (Antarctic_Ice_Sheet_cci): Antarctic Ice Sheet monthly velocity from 2017 to 2020, derived from Sentinel-1, v1\n",
      "00fe090efc58446e8980992a617f632f-main: (NonDRS) ESA Antarctic Ice Sheet Climate Change Initiative (Antarctic_Ice_Sheet_cci): Antarctic Ice Sheet monthly velocity from 2017 to 2020, derived from Sentinel-1, v1\n",
      "01b00854797d44a59d57c8cce08821eb: ESA Fire Climate Change Initiative (Fire_cci): Small Fire Database (SFD) Burned Area grid product for Sub-Saharan Africa, version 2.0\n",
      "01b00854797d44a59d57c8cce08821eb-main: (NonDRS) Small Fire Database (SFD) Burned Area grid product for Sub-Saharan Africa, version 2.0\n",
      "024292dcda5d42ceb326850f89f8b40d: ESA Ocean Colour Climate Change Initiative (Ocean_Colour_cci): Global dataset of inherent optical properties (IOP) gridded on a sinusoidal projection at 4km resolution, Version 6.0\n",
      "024292dcda5d42ceb326850f89f8b40d-main: (NonDRS) Global dataset of inherent optical properties (IOP) gridded on a sinusoidal projection at 4km resolution, Version 6.0\n"
     ]
    }
   ],
   "source": [
    "for coll in itertools.islice(client.get_collections(), 10):\n",
    "    print(f\"{coll.id}: {coll.title}\")"
   ]
  },
  {
   "cell_type": "markdown",
   "id": "5488a013",
   "metadata": {},
   "source": [
    "Alternatively, the STAC browser can be used to nagivate the nested collections: https://radiantearth.github.io/stac-browser/#/external/api.stac.164.30.69.113.nip.io/collections/cci."
   ]
  },
  {
   "cell_type": "markdown",
   "id": "2ffcc562-f199-406b-b5e1-7d32ecb26360",
   "metadata": {},
   "source": [
    "Once we have found a collection we want to work with we can use it's ID and the `get_collection()` method to retrieve it."
   ]
  },
  {
   "cell_type": "code",
   "execution_count": 5,
   "id": "cb5d4d1a-e645-4037-bd81-13e465fee718",
   "metadata": {
    "tags": []
   },
   "outputs": [],
   "source": [
    "collection_id = 'esacci.lakes.day.l3s.lk_products.multi-sensor.multi-platform.merged.v2-1-0.r1'\n",
    "collection = client.get_collection(collection_id)"
   ]
  },
  {
   "cell_type": "markdown",
   "id": "b742eda3",
   "metadata": {},
   "source": [
    "We can inspect some of the collections metadata including it's spatial and temporal extents, as well as any summary information it has on it's items."
   ]
  },
  {
   "cell_type": "code",
   "execution_count": 6,
   "id": "cd9a9892",
   "metadata": {},
   "outputs": [
    {
     "name": "stdout",
     "output_type": "stream",
     "text": [
      "[[-180, -90, 180, 90]]\n",
      "[[datetime.datetime(1992, 9, 26, 0, 0, tzinfo=tzutc()), datetime.datetime(1992, 10, 15, 23, 59, 59, tzinfo=tzutc())]]\n",
      "{'Assets': [{'name': 'NetCDF', 'common_name': 'NetCDF', 'description': 'None'}]}\n"
     ]
    }
   ],
   "source": [
    "print(collection.extent.spatial.bboxes)\n",
    "print(collection.extent.temporal.intervals)\n",
    "print(collection.summaries.to_dict())"
   ]
  },
  {
   "cell_type": "markdown",
   "id": "174ca2d5-0196-4bf5-9d09-e967b670d288",
   "metadata": {},
   "source": [
    "We can also use `get_items()` to retrieve all of the items associated to the collection. This can return large numbers of items so it's recommend to use the search API instead - more on that later. "
   ]
  },
  {
   "cell_type": "code",
   "execution_count": 8,
   "id": "a1ecd2f0-df68-48c1-ae7c-89ff12348e77",
   "metadata": {},
   "outputs": [
    {
     "name": "stdout",
     "output_type": "stream",
     "text": [
      "ESACCI-LAKES-L3S-LK_PRODUCTS-MERGED-20221231-fv2.1.0\n",
      "ESACCI-LAKES-L3S-LK_PRODUCTS-MERGED-20221230-fv2.1.0\n",
      "ESACCI-LAKES-L3S-LK_PRODUCTS-MERGED-20221229-fv2.1.0\n",
      "ESACCI-LAKES-L3S-LK_PRODUCTS-MERGED-20221228-fv2.1.0\n",
      "ESACCI-LAKES-L3S-LK_PRODUCTS-MERGED-20221227-fv2.1.0\n",
      "ESACCI-LAKES-L3S-LK_PRODUCTS-MERGED-20221226-fv2.1.0\n",
      "ESACCI-LAKES-L3S-LK_PRODUCTS-MERGED-20221225-fv2.1.0\n",
      "ESACCI-LAKES-L3S-LK_PRODUCTS-MERGED-20221224-fv2.1.0\n",
      "ESACCI-LAKES-L3S-LK_PRODUCTS-MERGED-20221223-fv2.1.0\n",
      "ESACCI-LAKES-L3S-LK_PRODUCTS-MERGED-20221222-fv2.1.0\n"
     ]
    }
   ],
   "source": [
    "for item in itertools.islice(collection.get_items(), 10):\n",
    "    print(item.id)"
   ]
  },
  {
   "cell_type": "markdown",
   "id": "ae3b629c-98bc-4938-a73c-6ab93afbe094",
   "metadata": {},
   "source": [
    "## 2. Searching\n",
    "\n",
    "Search allows to to filter items across all collections through their associated metadata. `get_queryables` can be used to see the avaiable fields to search on. These typically include the related collection, spatial and temporal extents, and other item properties.\n",
    "\n",
    "**Note**: this is currently not returning all queryables so can be skipped for now."
   ]
  },
  {
   "cell_type": "code",
   "execution_count": 17,
   "id": "fca58ad1",
   "metadata": {},
   "outputs": [
    {
     "data": {
      "text/plain": [
       "{'$schema': 'https://json-schema.org/draft/2019-09/schema',\n",
       " '$id': 'https://stac-api.example.com/queryables',\n",
       " 'type': 'object',\n",
       " 'title': 'Queryables for STAC API',\n",
       " 'description': 'Queryable names for the STAC API Item Search filter.',\n",
       " 'properties': {'id': {'description': 'ID',\n",
       "   '$ref': 'https://schemas.stacspec.org/v1.0.0/item-spec/json-schema/item.json#/definitions/core/allOf/2/properties/id'},\n",
       "  'collection': {'description': 'Collection',\n",
       "   '$ref': 'https://schemas.stacspec.org/v1.0.0/item-spec/json-schema/item.json#/definitions/core/allOf/2/then/properties/collection'},\n",
       "  'geometry': {'description': 'Geometry',\n",
       "   '$ref': 'https://schemas.stacspec.org/v1.0.0/item-spec/json-schema/item.json#/definitions/core/allOf/1/oneOf/0/properties/geometry'},\n",
       "  'datetime': {'description': 'Acquisition Timestamp',\n",
       "   '$ref': 'https://schemas.stacspec.org/v1.0.0/item-spec/json-schema/datetime.json#/properties/datetime'},\n",
       "  'created': {'description': 'Creation Timestamp',\n",
       "   '$ref': 'https://schemas.stacspec.org/v1.0.0/item-spec/json-schema/datetime.json#/properties/created'},\n",
       "  'updated': {'description': 'Creation Timestamp',\n",
       "   '$ref': 'https://schemas.stacspec.org/v1.0.0/item-spec/json-schema/datetime.json#/properties/updated'},\n",
       "  'cloud_cover': {'description': 'Cloud Cover',\n",
       "   '$ref': 'https://stac-extensions.github.io/eo/v1.0.0/schema.json#/definitions/fields/properties/eo:cloud_cover'},\n",
       "  'cloud_shadow_percentage': {'title': 'Cloud Shadow Percentage',\n",
       "   'description': 'Cloud Shadow Percentage',\n",
       "   'type': 'number',\n",
       "   'minimum': 0,\n",
       "   'maximum': 100},\n",
       "  'nodata_pixel_percentage': {'title': 'No Data Pixel Percentage',\n",
       "   'description': 'No Data Pixel Percentage',\n",
       "   'type': 'number',\n",
       "   'minimum': 0,\n",
       "   'maximum': 100}},\n",
       " 'additionalProperties': True}"
      ]
     },
     "execution_count": 17,
     "metadata": {},
     "output_type": "execute_result"
    }
   ],
   "source": [
    "client.get_queryables()"
   ]
  },
  {
   "cell_type": "markdown",
   "id": "fc2581b6",
   "metadata": {},
   "source": [
    "These fields can then be used during search which is outlined [here](https://github.com/radiantearth/stac-api-spec/tree/release/v1.0.0/item-search).\n",
    "\n",
    "Fields in the core specification for example an item's collection, spatial, and temporal properties can be search through their own parameters in the `client.search()` method, there are two kinds of datetime selection methods we can use:"
   ]
  },
  {
   "cell_type": "code",
   "execution_count": 11,
   "id": "2fd32ad5-0aac-46d4-b2e6-aab417421175",
   "metadata": {},
   "outputs": [
    {
     "name": "stdout",
     "output_type": "stream",
     "text": [
      "ESACCI-LAKES-L3S-LK_PRODUCTS-MERGED-20221231-fv2.1.0 2022-12-31T00:00:00Z 2022-12-31T23:59:59Z\n",
      "ESACCI-LAKES-L3S-LK_PRODUCTS-MERGED-20221230-fv2.1.0 2022-12-30T00:00:00Z 2022-12-30T23:59:59Z\n",
      "ESACCI-LAKES-L3S-LK_PRODUCTS-MERGED-20221229-fv2.1.0 2022-12-29T00:00:00Z 2022-12-29T23:59:59Z\n",
      "ESACCI-LAKES-L3S-LK_PRODUCTS-MERGED-20221228-fv2.1.0 2022-12-28T00:00:00Z 2022-12-28T23:59:59Z\n",
      "ESACCI-LAKES-L3S-LK_PRODUCTS-MERGED-20221227-fv2.1.0 2022-12-27T00:00:00Z 2022-12-27T23:59:59Z\n",
      "ESACCI-LAKES-L3S-LK_PRODUCTS-MERGED-20221226-fv2.1.0 2022-12-26T00:00:00Z 2022-12-26T23:59:59Z\n",
      "ESACCI-LAKES-L3S-LK_PRODUCTS-MERGED-20221225-fv2.1.0 2022-12-25T00:00:00Z 2022-12-25T23:59:59Z\n",
      "ESACCI-LAKES-L3S-LK_PRODUCTS-MERGED-20221224-fv2.1.0 2022-12-24T00:00:00Z 2022-12-24T23:59:59Z\n",
      "ESACCI-LAKES-L3S-LK_PRODUCTS-MERGED-20221223-fv2.1.0 2022-12-23T00:00:00Z 2022-12-23T23:59:59Z\n",
      "ESACCI-LAKES-L3S-LK_PRODUCTS-MERGED-20221222-fv2.1.0 2022-12-22T00:00:00Z 2022-12-22T23:59:59Z\n"
     ]
    }
   ],
   "source": [
    "item_search = client.search(\n",
    "    collections=[collection_id],\n",
    "    datetime=\"2022-12-21/2022-12-31\",\n",
    "    max_items=10,\n",
    ")\n",
    "\n",
    "for item in itertools.islice(item_search.items(), 10):\n",
    "    print(item.id, item.properties[\"start_datetime\"], item.properties[\"end_datetime\"])"
   ]
  },
  {
   "cell_type": "markdown",
   "id": "6a39e021-b064-4713-b3f7-654ba17323da",
   "metadata": {},
   "source": [
    "If the catalogue has the filter extenions the `query` parameter in `client.search()` can be used to create more complex search using all available fields and use the CQL query format."
   ]
  },
  {
   "cell_type": "code",
   "execution_count": 12,
   "id": "f4f52e24-969c-463e-9222-f97856fa01ea",
   "metadata": {},
   "outputs": [
    {
     "name": "stdout",
     "output_type": "stream",
     "text": [
      "ESACCI-LAKES-L3S-LK_PRODUCTS-MERGED-20221231-fv2.1.0 2022-12-31T00:00:00Z 2022-12-31T23:59:59Z\n",
      "ESACCI-LAKES-L3S-LK_PRODUCTS-MERGED-20221230-fv2.1.0 2022-12-30T00:00:00Z 2022-12-30T23:59:59Z\n",
      "ESACCI-LAKES-L3S-LK_PRODUCTS-MERGED-20221229-fv2.1.0 2022-12-29T00:00:00Z 2022-12-29T23:59:59Z\n",
      "ESACCI-LAKES-L3S-LK_PRODUCTS-MERGED-20221228-fv2.1.0 2022-12-28T00:00:00Z 2022-12-28T23:59:59Z\n",
      "ESACCI-LAKES-L3S-LK_PRODUCTS-MERGED-20221227-fv2.1.0 2022-12-27T00:00:00Z 2022-12-27T23:59:59Z\n",
      "ESACCI-LAKES-L3S-LK_PRODUCTS-MERGED-20221226-fv2.1.0 2022-12-26T00:00:00Z 2022-12-26T23:59:59Z\n",
      "ESACCI-LAKES-L3S-LK_PRODUCTS-MERGED-20221225-fv2.1.0 2022-12-25T00:00:00Z 2022-12-25T23:59:59Z\n",
      "ESACCI-LAKES-L3S-LK_PRODUCTS-MERGED-20221224-fv2.1.0 2022-12-24T00:00:00Z 2022-12-24T23:59:59Z\n",
      "ESACCI-LAKES-L3S-LK_PRODUCTS-MERGED-20221223-fv2.1.0 2022-12-23T00:00:00Z 2022-12-23T23:59:59Z\n",
      "ESACCI-LAKES-L3S-LK_PRODUCTS-MERGED-20221222-fv2.1.0 2022-12-22T00:00:00Z 2022-12-22T23:59:59Z\n"
     ]
    }
   ],
   "source": [
    "item_search = client.search(\n",
    "    collections=[collection_id],\n",
    "    query=[\n",
    "        'start_datetime>=2022-12-21',\n",
    "        'end_datetime<=2022-12-31', \n",
    "    ],\n",
    "    max_items=10,\n",
    ")\n",
    "\n",
    "for item in itertools.islice(item_search.items(), 10):\n",
    "    print(item.id, item.properties[\"start_datetime\"], item.properties[\"end_datetime\"])"
   ]
  },
  {
   "cell_type": "markdown",
   "id": "8f5d6876-453b-43a4-a772-285016722976",
   "metadata": {},
   "source": [
    "Here we've used the query kwarg to specify the start and end datetime for our search range, and these are all _and_-ed together so we get the range we want. Note as well that we've set `max_items` to 10 so we don't end up grabbing every item in the search result, you could remove this if you so desired. We've only specified one collection here but you can specify multiple, just bear in mind you always need to specify your collection(s) as a list - even if there's only one. \n",
    "\n",
    "We can interrogate our search results and see how many we matched:\n",
    "\n",
    "**Note**: Currently the API uses the wrong field name this will be patch in an up coming update."
   ]
  },
  {
   "cell_type": "code",
   "execution_count": 18,
   "id": "66b29631-e444-4339-be60-e8275a5374e9",
   "metadata": {},
   "outputs": [
    {
     "name": "stdout",
     "output_type": "stream",
     "text": [
      "None\n"
     ]
    },
    {
     "name": "stderr",
     "output_type": "stream",
     "text": [
      "/home/users/rhys_r_e/.local/lib/python3.11/site-packages/pystac_client/item_search.py:680: UserWarning: numberMatched or context.matched not in response\n",
      "  warnings.warn(\"numberMatched or context.matched not in response\")\n"
     ]
    },
    {
     "ename": "AttributeError",
     "evalue": "'ItemSearch' object has no attribute 'to_dict'",
     "output_type": "error",
     "traceback": [
      "\u001b[0;31m---------------------------------------------------------------------------\u001b[0m",
      "\u001b[0;31mAttributeError\u001b[0m                            Traceback (most recent call last)",
      "Cell \u001b[0;32mIn[18], line 2\u001b[0m\n\u001b[1;32m      1\u001b[0m \u001b[38;5;28mprint\u001b[39m(item_search\u001b[38;5;241m.\u001b[39mmatched())\n\u001b[0;32m----> 2\u001b[0m \u001b[38;5;28mprint\u001b[39m(\u001b[43mitem_search\u001b[49m\u001b[38;5;241;43m.\u001b[39;49m\u001b[43mto_dict\u001b[49m())\n",
      "\u001b[0;31mAttributeError\u001b[0m: 'ItemSearch' object has no attribute 'to_dict'"
     ]
    }
   ],
   "source": [
    "print(item_search.matched())\n"
   ]
  },
  {
   "cell_type": "markdown",
   "id": "fff0290c-3291-46e4-a95c-fd23ef5ecae4",
   "metadata": {},
   "source": [
    "Note that we could get to the same result by manually polling the API endpoint with a get request. This could be browsed to on any web browser with the appropriate url, and in python this can be done nice and easily with the requests library. `item_search` also, very conveniently, has a method for pulling the url and query parameters out:"
   ]
  },
  {
   "cell_type": "code",
   "execution_count": 13,
   "id": "93cd87f6-eff8-4209-9b02-1e4fe606d10e",
   "metadata": {},
   "outputs": [
    {
     "data": {
      "text/plain": [
       "'https://api.stac.164.30.69.113.nip.io/search?collections=esacci.lakes.day.l3s.lk_products.multi-sensor.multi-platform.merged.v2-1-0.r1&query=%7B%22start_datetime%22%3A%7B%22gte%22%3A%222022-12-21%22%7D%2C%22end_datetime%22%3A%7B%22lte%22%3A%222022-12-31%22%7D%7D'"
      ]
     },
     "execution_count": 13,
     "metadata": {},
     "output_type": "execute_result"
    }
   ],
   "source": [
    "item_search.url_with_parameters()"
   ]
  },
  {
   "cell_type": "markdown",
   "id": "cabdf2b4-1a1f-4fb1-a8ac-2a8693b91153",
   "metadata": {},
   "source": [
    "(NOTE: it doesn't seem to automatically add the limit=10 to limit the max number of items we retrieve, but that's a simple enough addition)\n",
    "Now we can navigate to that as a url directly or, as previously mentioned, use the `requests` library. "
   ]
  },
  {
   "cell_type": "code",
   "execution_count": 22,
   "id": "70861fb4-eb2b-4cb1-b2a5-f90abd9cb6ac",
   "metadata": {},
   "outputs": [
    {
     "name": "stdout",
     "output_type": "stream",
     "text": [
      "{'datetime': None, 'start_datetime': '2022-12-31T00:00:00Z', 'end_datetime': '2022-12-31T23:59:59Z', 'license': 'other', 'version': ['v2.1.0'], 'aggregation': False, 'platforms': ['Sentinel-6A', 'SARAL', 'Jason-2', 'Sentinel-3A', 'Jason-1', 'Jason-3', 'ERS-1', 'GFO', 'ERS-2', 'Envisat', 'Sentinel-3B'], 'collections': ['lakes', '7fc9df8070d34cacab8092e45ef276f1', 'esacci.LAKES.day.L3S.LK_PRODUCTS.multi-sensor.multi-platform.MERGED.v2-1-0.r1'], 'opensearch_url': 'https://archive.opensearch.ceda.ac.uk/opensearch/description.xml?parentIdentifier=7fc9df8070d34cacab8092e45ef276f1', 'esa_url': 'https://climate.esa.int/en/catalogue/7fc9df8070d34cacab8092e45ef276f1/', 'dataType': 'LK_PRODUCTS', 'project': 'LAKES', 'frequency': 'day', 'productString': 'MERGED', 'platformGroup': [], 'productVersion': 'v2.1.0', 'processingLevel': 'L3S', 'drsId': 'esacci.LAKES.day.L3S.LK_PRODUCTS.multi-sensor.multi-platform.MERGED.v2-1-0.r1', 'ecv': 'LAKES', 'datasetId': '7fc9df8070d34cacab8092e45ef276f1', 'institute': ['University of Reading', 'H2O Geomatics', 'Collecte Localisation Satellites', 'Plymouth Marine Laboratory'], 'sensor': ['Poseidon-3B', 'Poseidon-3', 'RA', 'MSS', 'RA-2', 'SSALT', 'MODIS', 'OLI', 'Poseidon-2', 'SRAL', 'TM', 'MSI (Sentinel-2)', 'AVHRR', 'Poseidon-4', 'ETM+', 'AltiKa'], 'created': '2025-09-09T11:32:56.536178Z', 'updated': '2025-09-09T11:32:56.536178Z'}\n"
     ]
    }
   ],
   "source": [
    "import requests\n",
    "response = requests.get(item_search.url_with_parameters() + \"&limit=1\")\n",
    "\n",
    "api_item = response.json()[\"features\"][0]\n",
    "\n",
    "print(api_item[\"properties\"])"
   ]
  },
  {
   "cell_type": "markdown",
   "id": "793266f0-9b38-4be3-9596-35b850603d61",
   "metadata": {},
   "source": [
    "This is obviously a little unwieldy in this form and less convenient, but it can be useful going straight to the source. \n",
    "\n",
    "If we inspect the properties of the first item we retrieved, we can see the associated metadata.  Every field here can be searched across with the query kwarg in `client.search()` (which we previously did with `start_datetime` and `end_datetime`)"
   ]
  },
  {
   "cell_type": "code",
   "execution_count": 16,
   "id": "870e7d14-093b-4d4d-ac80-72503c0ebda7",
   "metadata": {},
   "outputs": [
    {
     "data": {
      "text/plain": [
       "{'datetime': None,\n",
       " 'start_datetime': '2022-12-31T00:00:00Z',\n",
       " 'end_datetime': '2022-12-31T23:59:59Z',\n",
       " 'license': 'other',\n",
       " 'version': ['v2.1.0'],\n",
       " 'aggregation': False,\n",
       " 'platforms': ['Sentinel-6A',\n",
       "  'SARAL',\n",
       "  'Jason-2',\n",
       "  'Sentinel-3A',\n",
       "  'Jason-1',\n",
       "  'Jason-3',\n",
       "  'ERS-1',\n",
       "  'GFO',\n",
       "  'ERS-2',\n",
       "  'Envisat',\n",
       "  'Sentinel-3B'],\n",
       " 'collections': ['lakes',\n",
       "  '7fc9df8070d34cacab8092e45ef276f1',\n",
       "  'esacci.LAKES.day.L3S.LK_PRODUCTS.multi-sensor.multi-platform.MERGED.v2-1-0.r1'],\n",
       " 'opensearch_url': 'https://archive.opensearch.ceda.ac.uk/opensearch/description.xml?parentIdentifier=7fc9df8070d34cacab8092e45ef276f1',\n",
       " 'esa_url': 'https://climate.esa.int/en/catalogue/7fc9df8070d34cacab8092e45ef276f1/',\n",
       " 'dataType': 'LK_PRODUCTS',\n",
       " 'project': 'LAKES',\n",
       " 'frequency': 'day',\n",
       " 'productString': 'MERGED',\n",
       " 'platformGroup': [],\n",
       " 'productVersion': 'v2.1.0',\n",
       " 'processingLevel': 'L3S',\n",
       " 'drsId': 'esacci.LAKES.day.L3S.LK_PRODUCTS.multi-sensor.multi-platform.MERGED.v2-1-0.r1',\n",
       " 'ecv': 'LAKES',\n",
       " 'datasetId': '7fc9df8070d34cacab8092e45ef276f1',\n",
       " 'institute': ['University of Reading',\n",
       "  'H2O Geomatics',\n",
       "  'Collecte Localisation Satellites',\n",
       "  'Plymouth Marine Laboratory'],\n",
       " 'sensor': ['Poseidon-3B',\n",
       "  'Poseidon-3',\n",
       "  'RA',\n",
       "  'MSS',\n",
       "  'RA-2',\n",
       "  'SSALT',\n",
       "  'MODIS',\n",
       "  'OLI',\n",
       "  'Poseidon-2',\n",
       "  'SRAL',\n",
       "  'TM',\n",
       "  'MSI (Sentinel-2)',\n",
       "  'AVHRR',\n",
       "  'Poseidon-4',\n",
       "  'ETM+',\n",
       "  'AltiKa'],\n",
       " 'created': '2025-09-09T11:32:56.536178Z',\n",
       " 'updated': '2025-09-09T11:32:56.536178Z'}"
      ]
     },
     "execution_count": 16,
     "metadata": {},
     "output_type": "execute_result"
    }
   ],
   "source": [
    "next(item_search.items()).properties"
   ]
  },
  {
   "cell_type": "markdown",
   "id": "4ac508bd-c919-494d-9ea0-f0b036329d23",
   "metadata": {},
   "source": [
    "So we can now do a slightly more interesting/complicated search using some of this metadata. First we define a point in space, and the shapely library provides some useful utilities for doing so. Note that the [stac spec](https://github.com/radiantearth/stac-spec/blob/master/item-spec/item-spec.md#bbox) states that the bbox or coordinates must be specified in order of longitude-lattitude(-elevation) in line with the [GeoJSON standard RFC7946](https://datatracker.ietf.org/doc/html/rfc7946#section-5)."
   ]
  },
  {
   "cell_type": "code",
   "execution_count": 23,
   "id": "8cb6d01a-7779-45a2-88f9-8ef26367abc0",
   "metadata": {},
   "outputs": [],
   "source": [
    "from shapely import Point\n",
    "point = Point(-1.3144835766058023, 51.57555380377267) # Atlas building at RAL"
   ]
  },
  {
   "cell_type": "markdown",
   "id": "aa134a13-e53b-49c9-88ad-516456e6f32d",
   "metadata": {},
   "source": [
    "This is using lattitude and longitude, but there is no required coordinate system built into STAC, so this is dependent entirely on the data you are trying to access. We're also only using a point in this example, but this could be an arbitrary bounding box or shape if you like. \n",
    "\n",
    "Lets do a search using this and a little more metadata. We input our spatial data using the `intersects` kwarg, and filter on the `processingLevel` using the `query` kwarg as before."
   ]
  },
  {
   "cell_type": "code",
   "execution_count": 32,
   "id": "caa8146e-92e8-4146-b26a-688a4941c21d",
   "metadata": {},
   "outputs": [],
   "source": [
    "item_search = client.search(\n",
    "    collections=[collection_id],\n",
    "    intersects=point,\n",
    "    query=[\n",
    "        'start_datetime>=2022-12-21',\n",
    "        'end_datetime<=2022-12-31',\n",
    "        'processingLevel=L3S'\n",
    "    ],\n",
    "    max_items=10,\n",
    ")"
   ]
  },
  {
   "cell_type": "code",
   "execution_count": 33,
   "id": "09494f63-84ca-413c-8ab6-7fefdbe86d26",
   "metadata": {},
   "outputs": [
    {
     "data": {
      "text/plain": [
       "<generator object ItemSearch.items at 0x7fac95d847c0>"
      ]
     },
     "execution_count": 33,
     "metadata": {},
     "output_type": "execute_result"
    }
   ],
   "source": [
    "# item_search.matched()\n",
    "items = item_search.items()"
   ]
  },
  {
   "cell_type": "markdown",
   "id": "1f3a81c5-dd69-430d-89c5-33c3dcf8560c",
   "metadata": {},
   "source": [
    "So we've narrowed down quite a bit further. If you want more information on alternative ways to search or query there is good documentation available online, e.g. [here](https://pystac-client.readthedocs.io/en/latest/usage.html#query-extension), [here](https://github.com/stac-api-extensions/query), and [here](https://github.com/radiantearth/stac-api-spec/blob/release/v1.0.0/item-search/examples.md)."
   ]
  },
  {
   "cell_type": "markdown",
   "id": "68f6d339-0646-4d8c-be91-9d1652b9e67f",
   "metadata": {},
   "source": [
    "## 3. From items to assets\n",
    "\n",
    "Now we have some items that we're keen on, we can take a closer look and actually load some of the data. First lets have a look at the json object. "
   ]
  },
  {
   "cell_type": "code",
   "execution_count": 34,
   "id": "96086655-c432-4bc5-b0b1-13e2e7042d38",
   "metadata": {
    "scrolled": true,
    "tags": []
   },
   "outputs": [
    {
     "data": {
      "text/plain": [
       "{'type': 'Feature',\n",
       " 'stac_version': '1.0.0',\n",
       " 'id': 'ESACCI-LAKES-L3S-LK_PRODUCTS-MERGED-20221231-fv2.1.0',\n",
       " 'properties': {'datetime': None,\n",
       "  'start_datetime': '2022-12-31T00:00:00Z',\n",
       "  'end_datetime': '2022-12-31T23:59:59Z',\n",
       "  'license': 'other',\n",
       "  'version': ['v2.1.0'],\n",
       "  'aggregation': False,\n",
       "  'platforms': ['Sentinel-6A',\n",
       "   'SARAL',\n",
       "   'Jason-2',\n",
       "   'Sentinel-3A',\n",
       "   'Jason-1',\n",
       "   'Jason-3',\n",
       "   'ERS-1',\n",
       "   'GFO',\n",
       "   'ERS-2',\n",
       "   'Envisat',\n",
       "   'Sentinel-3B'],\n",
       "  'collections': ['lakes',\n",
       "   '7fc9df8070d34cacab8092e45ef276f1',\n",
       "   'esacci.LAKES.day.L3S.LK_PRODUCTS.multi-sensor.multi-platform.MERGED.v2-1-0.r1'],\n",
       "  'opensearch_url': 'https://archive.opensearch.ceda.ac.uk/opensearch/description.xml?parentIdentifier=7fc9df8070d34cacab8092e45ef276f1',\n",
       "  'esa_url': 'https://climate.esa.int/en/catalogue/7fc9df8070d34cacab8092e45ef276f1/',\n",
       "  'dataType': 'LK_PRODUCTS',\n",
       "  'project': 'LAKES',\n",
       "  'frequency': 'day',\n",
       "  'productString': 'MERGED',\n",
       "  'platformGroup': [],\n",
       "  'productVersion': 'v2.1.0',\n",
       "  'processingLevel': 'L3S',\n",
       "  'drsId': 'esacci.LAKES.day.L3S.LK_PRODUCTS.multi-sensor.multi-platform.MERGED.v2-1-0.r1',\n",
       "  'ecv': 'LAKES',\n",
       "  'datasetId': '7fc9df8070d34cacab8092e45ef276f1',\n",
       "  'institute': ['University of Reading',\n",
       "   'H2O Geomatics',\n",
       "   'Collecte Localisation Satellites',\n",
       "   'Plymouth Marine Laboratory'],\n",
       "  'sensor': ['Poseidon-3B',\n",
       "   'Poseidon-3',\n",
       "   'RA',\n",
       "   'MSS',\n",
       "   'RA-2',\n",
       "   'SSALT',\n",
       "   'MODIS',\n",
       "   'OLI',\n",
       "   'Poseidon-2',\n",
       "   'SRAL',\n",
       "   'TM',\n",
       "   'MSI (Sentinel-2)',\n",
       "   'AVHRR',\n",
       "   'Poseidon-4',\n",
       "   'ETM+',\n",
       "   'AltiKa'],\n",
       "  'created': '2025-09-09T11:32:56.536178Z',\n",
       "  'updated': '2025-09-09T11:32:56.536178Z'},\n",
       " 'geometry': {'type': 'Polygon',\n",
       "  'coordinates': [[[-180.0, -90.0],\n",
       "    [180.0, -90.0],\n",
       "    [180.0, 90.0],\n",
       "    [-180.0, 90.0],\n",
       "    [-180.0, -90.0]]]},\n",
       " 'links': [{'rel': 'self',\n",
       "   'href': 'https://api.stac.164.30.69.113.nip.io/collections/esacci.lakes.day.l3s.lk_products.multi-sensor.multi-platform.merged.v2-1-0.r1/items/ESACCI-LAKES-L3S-LK_PRODUCTS-MERGED-20221231-fv2.1.0',\n",
       "   'type': 'application/geo+json'},\n",
       "  {'rel': 'parent',\n",
       "   'href': 'https://api.stac.164.30.69.113.nip.io/collections/esacci.lakes.day.l3s.lk_products.multi-sensor.multi-platform.merged.v2-1-0.r1',\n",
       "   'type': 'application/json'},\n",
       "  {'rel': 'collection',\n",
       "   'href': 'https://api.stac.164.30.69.113.nip.io/collections/esacci.lakes.day.l3s.lk_products.multi-sensor.multi-platform.merged.v2-1-0.r1',\n",
       "   'type': 'application/json'},\n",
       "  {'rel': 'root',\n",
       "   'href': 'https://api.stac.164.30.69.113.nip.io/',\n",
       "   'type': 'application/json',\n",
       "   'title': 'CCI STAC API'},\n",
       "  {'rel': 'license',\n",
       "   'href': 'https://artefacts.ceda.ac.uk/licences/specific_licences/esacci_lakes_terms_and_conditions_v2.pdf',\n",
       "   'type': 'application/pdf'}],\n",
       " 'assets': {'NetCDF': {'href': 'https://dap.ceda.ac.uk/neodc/esacci/lakes/data/lake_products/L3S/v2.1/merged_product/2022/12/ESACCI-LAKES-L3S-LK_PRODUCTS-MERGED-20221231-fv2.1.0.nc',\n",
       "   'roles': ['data']}},\n",
       " 'bbox': [-180.0, -90.0, 180.0, 90.0],\n",
       " 'stac_extensions': ['https://stac-extensions.github.io/projection/v1.1.0/schema.json',\n",
       "  'https://stac-extensions.github.io/classification/v1.0.0/schema.json'],\n",
       " 'collection': 'esacci.lakes.day.l3s.lk_products.multi-sensor.multi-platform.merged.v2-1-0.r1'}"
      ]
     },
     "execution_count": 34,
     "metadata": {},
     "output_type": "execute_result"
    }
   ],
   "source": [
    "item = next(items)\n",
    "item.to_dict()"
   ]
  },
  {
   "cell_type": "markdown",
   "id": "b0376de3-d3a7-4626-9a60-4c2e15bae61d",
   "metadata": {},
   "source": [
    "There's a lot there, feel free to browse at your own leisure. \n",
    "\n",
    "If we're interested in getting to the data we need to specifically look at the assets dictionary."
   ]
  },
  {
   "cell_type": "code",
   "execution_count": 35,
   "id": "a00c0a6c-ac03-485b-9435-64eb6347faf5",
   "metadata": {},
   "outputs": [
    {
     "name": "stdout",
     "output_type": "stream",
     "text": [
      "NetCDF https://dap.ceda.ac.uk/neodc/esacci/lakes/data/lake_products/L3S/v2.1/merged_product/2022/12/ESACCI-LAKES-L3S-LK_PRODUCTS-MERGED-20221231-fv2.1.0.nc\n"
     ]
    }
   ],
   "source": [
    "for key, value in item.assets.items():\n",
    "    print(key, value.href)"
   ]
  },
  {
   "cell_type": "markdown",
   "id": "ee349087",
   "metadata": {},
   "source": [
    "The NetCDF file can be opened using xarray."
   ]
  },
  {
   "cell_type": "code",
   "execution_count": 37,
   "id": "a72d58f0",
   "metadata": {},
   "outputs": [],
   "source": [
    "import xarray as xr\n",
    "\n",
    "ds = xr.open_dataset(f\"{item.assets['NetCDF'].href}#mode=bytes\")"
   ]
  },
  {
   "cell_type": "markdown",
   "id": "780bb675-b553-4cc7-ac61-690cd72403ed",
   "metadata": {},
   "source": [
    "---\n",
    "## Kerchunk example\n",
    "\n",
    "The following is an example kerchunk file that has been generated for some specific CCI data, which can be used to index only the parts of the netcdf file you want to work with as opposed to the whole thing. To do this we use fsspec to read the kerchunk file as a virtual zarr file, and then open it using xarray's `open_zarr()` method. We can then select a subset of data and it works in a fraction of the time doing something equivalent with the above `open_dataset` method would take.\n"
   ]
  },
  {
   "cell_type": "code",
   "execution_count": 40,
   "id": "b8e5e411-a844-4cfe-ae2b-2d3f6ea613b5",
   "metadata": {},
   "outputs": [
    {
     "name": "stdout",
     "output_type": "stream",
     "text": [
      "<Item id=pctCCI_mon_ESACCI-CLOUD-ATSR2-AATSR-3-0_BE_gr_199501-201212_kr1.0>\n",
      "https://dap.ceda.ac.uk/neodc/esacci/cloud/metadata/kerchunk/obs4MIPs/DWD/ESACCI-CLOUD-ATSR2-AATSR-3-0/mon/pctCCI/gr/v20200106/pctCCI_mon_ESACCI-CLOUD-ATSR2-AATSR-3-0_BE_gr_199501-201212_kr1.0.json\n"
     ]
    }
   ],
   "source": [
    "import xarray as xr\n",
    "\n",
    "kerchunk_item_search = client.search(\n",
    "    query=[\n",
    "        'aggregation=true'\n",
    "    ],\n",
    "    max_items=10,\n",
    ")\n",
    "\n",
    "kerchunk_items = kerchunk_item_search.items()\n",
    "kerchunk_item = next(kerchunk_items)\n",
    "\n",
    "print(kerchunk_item)\n",
    "print(kerchunk_item.assets['reference_file'].href)\n",
    "kerchunk_ds = xr.open_dataset(kerchunk_item.assets['reference_file'].href, engine='kerchunk')"
   ]
  },
  {
   "cell_type": "markdown",
   "id": "9c023684-7350-4b52-9c8f-1192fc538513",
   "metadata": {},
   "source": [
    "Then we can inspect our dataset and plot something from it"
   ]
  },
  {
   "cell_type": "code",
   "execution_count": 41,
   "id": "d06b9b81-8235-4c87-858d-f1d7c1c5a34a",
   "metadata": {},
   "outputs": [
    {
     "data": {
      "text/plain": [
       "['lat', 'lat_bnds', 'lon', 'lon_bnds', 'pctCCI', 'time', 'time_bnds']"
      ]
     },
     "execution_count": 41,
     "metadata": {},
     "output_type": "execute_result"
    }
   ],
   "source": [
    "list(kerchunk_ds.variables)"
   ]
  },
  {
   "cell_type": "code",
   "execution_count": null,
   "id": "031b9c84-f4b0-4ece-9377-b4491467465e",
   "metadata": {},
   "outputs": [],
   "source": []
  }
 ],
 "metadata": {
  "kernelspec": {
   "display_name": "Python 3 + Jaspy",
   "language": "python",
   "name": "jaspy"
  },
  "language_info": {
   "codemirror_mode": {
    "name": "ipython",
    "version": 3
   },
   "file_extension": ".py",
   "mimetype": "text/x-python",
   "name": "python",
   "nbconvert_exporter": "python",
   "pygments_lexer": "ipython3",
   "version": "3.11.9"
  }
 },
 "nbformat": 4,
 "nbformat_minor": 5
}
