{
 "cells": [
  {
   "cell_type": "markdown",
   "id": "3d009877",
   "metadata": {},
   "source": [
    "# OpenEO for ESA CCI High Resolution Land Cover Data"
   ]
  }
 ],
 "metadata": {
  "language_info": {
   "name": "python"
  }
 },
 "nbformat": 4,
 "nbformat_minor": 5
}
