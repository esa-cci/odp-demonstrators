{
 "cells": [
  {
   "cell_type": "markdown",
   "id": "1ed50a3b",
   "metadata": {},
   "source": [
    "# OpenEO for ESA CCI Greenland Ice Sheets Data"
   ]
  }
 ],
 "metadata": {
  "language_info": {
   "name": "python"
  }
 },
 "nbformat": 4,
 "nbformat_minor": 5
}
