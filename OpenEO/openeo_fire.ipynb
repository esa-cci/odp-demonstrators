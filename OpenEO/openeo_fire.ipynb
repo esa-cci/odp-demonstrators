{
 "cells": [
  {
   "cell_type": "markdown",
   "id": "b9e217e7",
   "metadata": {},
   "source": [
    "# OpenEO for ESA CCI Fire Data"
   ]
  }
 ],
 "metadata": {
  "language_info": {
   "name": "python"
  }
 },
 "nbformat": 4,
 "nbformat_minor": 5
}
