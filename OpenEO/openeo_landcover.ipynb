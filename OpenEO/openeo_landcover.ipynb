{
 "cells": [
  {
   "cell_type": "markdown",
   "id": "c52172fd",
   "metadata": {},
   "source": [
    "# OpenEO for ESA CCI Land Cover Data"
   ]
  }
 ],
 "metadata": {
  "language_info": {
   "name": "python"
  }
 },
 "nbformat": 4,
 "nbformat_minor": 5
}
