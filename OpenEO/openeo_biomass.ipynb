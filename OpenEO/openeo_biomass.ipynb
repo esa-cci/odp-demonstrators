{
 "cells": [
  {
   "cell_type": "markdown",
   "id": "e76d262e",
   "metadata": {},
   "source": [
    "# OpenEO for ESA CCI Biomass Data"
   ]
  }
 ],
 "metadata": {
  "language_info": {
   "name": "python"
  }
 },
 "nbformat": 4,
 "nbformat_minor": 5
}
